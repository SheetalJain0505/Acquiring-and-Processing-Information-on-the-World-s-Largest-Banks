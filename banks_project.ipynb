{
 "cells": [
  {
   "cell_type": "code",
   "execution_count": 1,
   "id": "0817e34f",
   "metadata": {},
   "outputs": [],
   "source": [
    "from datetime import datetime\n",
    "\n",
    "def log_progress(message):\n",
    "    with open(\"code_log.txt\", \"a\") as log_file:\n",
    "        time_stamp = datetime.now().strftime(\"%Y-%m-%d %H:%M:%S\")\n",
    "        log_file.write(f\"[{time_stamp}] {message}\\n\")\n"
   ]
  },
  {
   "cell_type": "code",
   "execution_count": 2,
   "id": "db48efa2",
   "metadata": {},
   "outputs": [],
   "source": [
    "log_progress(\"Script started\")\n"
   ]
  },
  {
   "cell_type": "code",
   "execution_count": 9,
   "id": "c560e81f",
   "metadata": {},
   "outputs": [
    {
     "name": "stdout",
     "output_type": "stream",
     "text": [
      "Total tables found: 4\n",
      "\n",
      "Table 0: Columns --> Index([0, 1, 2], dtype='int64')\n",
      "\n",
      "Table 1: Columns --> Index(['Rank', 'Bank name', 'Market cap (US$ billion)'], dtype='object')\n",
      "\n",
      "Table 2: Columns --> Index(['Rank', 'Bank name', 'Total assets (2022) (US$ billion)'], dtype='object')\n",
      "\n",
      "Table 3: Columns --> Index(['Rank', 'Country', 'Number'], dtype='object')\n"
     ]
    }
   ],
   "source": [
    "import pandas as pd\n",
    "\n",
    "url = \"https://web.archive.org/web/20230908091635/https://en.wikipedia.org/wiki/List_of_largest_banks\"\n",
    "tables = pd.read_html(url)\n",
    "\n",
    "print(f\"Total tables found: {len(tables)}\")\n",
    "\n",
    "for i, table in enumerate(tables):\n",
    "    print(f\"\\nTable {i}: Columns --> {table.columns}\")\n"
   ]
  },
  {
   "cell_type": "code",
   "execution_count": 12,
   "id": "36c89d98",
   "metadata": {},
   "outputs": [],
   "source": [
    "def extract():\n",
    "    url = \"https://web.archive.org/web/20230908091635/https://en.wikipedia.org/wiki/List_of_largest_banks\"\n",
    "    tables = pd.read_html(url)\n",
    "\n",
    "    # Look for the table with correct columns\n",
    "    for table in tables:\n",
    "        if 'Market cap (US$ billion)' in table.columns:\n",
    "            df = table[['Bank name', 'Market cap (US$ billion)']].copy()\n",
    "            df.rename(columns={\n",
    "                'Bank name': 'Name',\n",
    "                'Market cap (US$ billion)': 'MC_USD_Billion'\n",
    "            }, inplace=True)\n",
    "            df = df.head(10)\n",
    "            log_progress(\"Data extraction completed\")\n",
    "            return df\n"
   ]
  },
  {
   "cell_type": "code",
   "execution_count": 13,
   "id": "0f6ee318",
   "metadata": {},
   "outputs": [
    {
     "name": "stdout",
     "output_type": "stream",
     "text": [
      "                                      Name  MC_USD_Billion\n",
      "0                           JPMorgan Chase          432.92\n",
      "1                          Bank of America          231.52\n",
      "2  Industrial and Commercial Bank of China          194.56\n",
      "3               Agricultural Bank of China          160.68\n",
      "4                                HDFC Bank          157.91\n",
      "5                              Wells Fargo          155.87\n",
      "6                        HSBC Holdings PLC          148.90\n",
      "7                           Morgan Stanley          140.83\n",
      "8                  China Construction Bank          139.82\n",
      "9                            Bank of China          136.81\n"
     ]
    }
   ],
   "source": [
    "df = extract()\n",
    "print(df)\n"
   ]
  },
  {
   "cell_type": "code",
   "execution_count": 5,
   "id": "11f60a71",
   "metadata": {},
   "outputs": [
    {
     "name": "stdout",
     "output_type": "stream",
     "text": [
      "Collecting lxml\n",
      "  Downloading lxml-6.0.0-cp312-cp312-win_amd64.whl.metadata (6.8 kB)\n",
      "Downloading lxml-6.0.0-cp312-cp312-win_amd64.whl (4.0 MB)\n",
      "   ---------------------------------------- 0.0/4.0 MB ? eta -:--:--\n",
      "   ---------------------------------------- 0.0/4.0 MB ? eta -:--:--\n",
      "   ----- ---------------------------------- 0.5/4.0 MB 1.9 MB/s eta 0:00:02\n",
      "   ------- -------------------------------- 0.8/4.0 MB 1.9 MB/s eta 0:00:02\n",
      "   ------------- -------------------------- 1.3/4.0 MB 2.2 MB/s eta 0:00:02\n",
      "   -------------------- ------------------- 2.1/4.0 MB 2.3 MB/s eta 0:00:01\n",
      "   -------------------------- ------------- 2.6/4.0 MB 2.5 MB/s eta 0:00:01\n",
      "   --------------------------------- ------ 3.4/4.0 MB 2.7 MB/s eta 0:00:01\n",
      "   ---------------------------------------- 4.0/4.0 MB 2.8 MB/s eta 0:00:00\n",
      "Installing collected packages: lxml\n",
      "Successfully installed lxml-6.0.0\n",
      "Note: you may need to restart the kernel to use updated packages.\n"
     ]
    },
    {
     "name": "stderr",
     "output_type": "stream",
     "text": [
      "\n",
      "[notice] A new release of pip is available: 24.2 -> 25.1.1\n",
      "[notice] To update, run: python.exe -m pip install --upgrade pip\n"
     ]
    }
   ],
   "source": [
    "pip install lxml"
   ]
  },
  {
   "cell_type": "code",
   "execution_count": 14,
   "id": "43bac328",
   "metadata": {},
   "outputs": [],
   "source": [
    "def transform(df):\n",
    "    exchange_url = \"https://cf-courses-data.s3.us.cloud-object-storage.appdomain.cloud/IBMSkillsNetwork-PY0221EN-Coursera/labs/v2/exchange_rate.csv\"\n",
    "    exchange_df = pd.read_csv(exchange_url)\n",
    "    \n",
    "    # Convert exchange dataframe to a dictionary: {'GBP': rate, ...}\n",
    "    rates = dict(zip(exchange_df['Currency'], exchange_df['Rate']))\n",
    "    \n",
    "    # Add new columns\n",
    "    df['MC_GBP_Billion'] = round(df['MC_USD_Billion'] * rates['GBP'], 2)\n",
    "    df['MC_EUR_Billion'] = round(df['MC_USD_Billion'] * rates['EUR'], 2)\n",
    "    df['MC_INR_Billion'] = round(df['MC_USD_Billion'] * rates['INR'], 2)\n",
    "\n",
    "    log_progress(\"Data transformation completed\")\n",
    "    return df\n"
   ]
  },
  {
   "cell_type": "code",
   "execution_count": 15,
   "id": "0858b7ff",
   "metadata": {},
   "outputs": [
    {
     "name": "stdout",
     "output_type": "stream",
     "text": [
      "                                      Name  MC_USD_Billion  MC_GBP_Billion  \\\n",
      "0                           JPMorgan Chase          432.92          346.34   \n",
      "1                          Bank of America          231.52          185.22   \n",
      "2  Industrial and Commercial Bank of China          194.56          155.65   \n",
      "3               Agricultural Bank of China          160.68          128.54   \n",
      "4                                HDFC Bank          157.91          126.33   \n",
      "5                              Wells Fargo          155.87          124.70   \n",
      "6                        HSBC Holdings PLC          148.90          119.12   \n",
      "7                           Morgan Stanley          140.83          112.66   \n",
      "8                  China Construction Bank          139.82          111.86   \n",
      "9                            Bank of China          136.81          109.45   \n",
      "\n",
      "   MC_EUR_Billion  MC_INR_Billion  \n",
      "0          402.62        35910.71  \n",
      "1          215.31        19204.58  \n",
      "2          180.94        16138.75  \n",
      "3          149.43        13328.41  \n",
      "4          146.86        13098.63  \n",
      "5          144.96        12929.42  \n",
      "6          138.48        12351.26  \n",
      "7          130.97        11681.85  \n",
      "8          130.03        11598.07  \n",
      "9          127.23        11348.39  \n"
     ]
    }
   ],
   "source": [
    "df_transformed = transform(df)\n",
    "print(df_transformed)\n"
   ]
  },
  {
   "cell_type": "code",
   "execution_count": 16,
   "id": "78bfff35",
   "metadata": {},
   "outputs": [],
   "source": [
    "def load_to_csv(df, filename=\"Largest_banks_data.csv\"):\n",
    "    df.to_csv(filename, index=False)\n",
    "    log_progress(\"Data loaded to CSV\")\n"
   ]
  },
  {
   "cell_type": "code",
   "execution_count": 17,
   "id": "cc8d9ba5",
   "metadata": {},
   "outputs": [],
   "source": [
    "load_to_csv(df_transformed)\n"
   ]
  },
  {
   "cell_type": "code",
   "execution_count": 18,
   "id": "fbc02a47",
   "metadata": {},
   "outputs": [],
   "source": [
    "import sqlite3\n",
    "\n",
    "def load_to_db(df, db_name=\"Banks.db\"):\n",
    "    conn = sqlite3.connect(db_name)\n",
    "    df.to_sql(\"Largest_banks\", conn, if_exists=\"replace\", index=False)\n",
    "    conn.close()\n",
    "    log_progress(\"Data loaded to Database\")\n"
   ]
  },
  {
   "cell_type": "code",
   "execution_count": 19,
   "id": "053f0033",
   "metadata": {},
   "outputs": [],
   "source": [
    "load_to_db(df_transformed)\n"
   ]
  },
  {
   "cell_type": "code",
   "execution_count": 20,
   "id": "843f6521",
   "metadata": {},
   "outputs": [],
   "source": [
    "def run_queries(db_name=\"Banks.db\"):\n",
    "    conn = sqlite3.connect(db_name)\n",
    "    cursor = conn.cursor()\n",
    "\n",
    "    log_progress(\"Running SQL Queries\")\n",
    "\n",
    "    # Query 1: Top 5 banks by MC_INR_Billion\n",
    "    query1 = \"SELECT Name, MC_INR_Billion FROM Largest_banks ORDER BY MC_INR_Billion DESC LIMIT 5\"\n",
    "    results = cursor.execute(query1).fetchall()\n",
    "    print(\"Top 5 Banks by Market Cap in INR:\")\n",
    "    for row in results:\n",
    "        print(row)\n",
    "\n",
    "    # Query 2: Average Market Cap in USD\n",
    "    query2 = \"SELECT AVG(MC_USD_Billion) FROM Largest_banks\"\n",
    "    avg_usd = cursor.execute(query2).fetchone()[0]\n",
    "    print(f\"\\nAverage Market Cap in USD: {round(avg_usd, 2)} Billion\")\n",
    "\n",
    "    conn.close()\n",
    "    log_progress(\"SQL Queries executed\")\n"
   ]
  },
  {
   "cell_type": "code",
   "execution_count": 21,
   "id": "3fab2d14",
   "metadata": {},
   "outputs": [
    {
     "name": "stdout",
     "output_type": "stream",
     "text": [
      "Top 5 Banks by Market Cap in INR:\n",
      "('JPMorgan Chase', 35910.71)\n",
      "('Bank of America', 19204.58)\n",
      "('Industrial and Commercial Bank of China', 16138.75)\n",
      "('Agricultural Bank of China', 13328.41)\n",
      "('HDFC Bank', 13098.63)\n",
      "\n",
      "Average Market Cap in USD: 189.98 Billion\n"
     ]
    }
   ],
   "source": [
    "run_queries()\n"
   ]
  },
  {
   "cell_type": "code",
   "execution_count": null,
   "id": "dbaed6f9",
   "metadata": {},
   "outputs": [],
   "source": []
  }
 ],
 "metadata": {
  "kernelspec": {
   "display_name": "Python 3",
   "language": "python",
   "name": "python3"
  },
  "language_info": {
   "codemirror_mode": {
    "name": "ipython",
    "version": 3
   },
   "file_extension": ".py",
   "mimetype": "text/x-python",
   "name": "python",
   "nbconvert_exporter": "python",
   "pygments_lexer": "ipython3",
   "version": "3.12.5"
  }
 },
 "nbformat": 4,
 "nbformat_minor": 5
}
